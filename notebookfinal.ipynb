{
 "cells": [
  {
   "cell_type": "code",
   "execution_count": 112,
   "id": "434a7310",
   "metadata": {},
   "outputs": [],
   "source": [
    "import numpy as np\n",
    "import pandas as pd\n",
    "import pandas as pd\n",
    "\n",
    "from sklearn.compose import ColumnTransformer\n",
    "from sklearn.impute import SimpleImputer\n",
    "from sklearn.pipeline import Pipeline\n",
    "from sklearn.preprocessing import KBinsDiscretizer, MinMaxScaler, OneHotEncoder, OrdinalEncoder\n",
    "import matplotlib.pyplot as plt\n",
    "from sklearn.model_selection import train_test_split\n",
    "from sklearn.linear_model import LinearRegression\n",
    "from sklearn.model_selection import train_test_split\n",
    "import xgboost as xgb\n",
    "\n",
    "from sklearn.model_selection import train_test_split, cross_val_score, GridSearchCV, RandomizedSearchCV\n",
    "from sklearn.tree import DecisionTreeClassifier\n",
    "from sklearn.dummy import DummyClassifier\n",
    "from sklearn.neighbors import KNeighborsClassifier\n",
    "from sklearn.metrics import accuracy_score, balanced_accuracy_score, confusion_matrix, ConfusionMatrixDisplay\n",
    "from sklearn.metrics import mean_squared_error, mean_absolute_error, r2_score"
   ]
  },
  {
   "cell_type": "code",
   "execution_count": 113,
   "id": "49942da9",
   "metadata": {},
   "outputs": [
    {
     "name": "stderr",
     "output_type": "stream",
     "text": [
      "C:\\Users\\alexl\\AppData\\Local\\Temp/ipykernel_19384/871816070.py:2: DtypeWarning: Columns (0) have mixed types. Specify dtype option on import or set low_memory=False.\n",
      "  df = pd.read_csv(datos)\n"
     ]
    }
   ],
   "source": [
    "datos = ('LOD.csv')\n",
    "df = pd.read_csv(datos)"
   ]
  },
  {
   "cell_type": "code",
   "execution_count": 114,
   "id": "003ade50",
   "metadata": {},
   "outputs": [],
   "source": [
    "df = pd.DataFrame(df)"
   ]
  },
  {
   "cell_type": "code",
   "execution_count": 115,
   "id": "10a0481f",
   "metadata": {},
   "outputs": [],
   "source": [
    "percentil_95 = df['surgery_length_of_duration'].quantile(0.95)\n",
    "\n",
    "\n",
    "# Filtrar valores mayores que el percentil 0.9\n",
    "df = df[(df['surgery_length_of_duration'] <= percentil_95)  & (df['surgery_length_of_duration'] >= 0)]"
   ]
  },
  {
   "cell_type": "code",
   "execution_count": 116,
   "id": "ec7d13f7",
   "metadata": {},
   "outputs": [
    {
     "data": {
      "text/plain": [
       "0"
      ]
     },
     "execution_count": 116,
     "metadata": {},
     "output_type": "execute_result"
    }
   ],
   "source": [
    "df['surgery_length_of_duration'].isna().sum()"
   ]
  },
  {
   "cell_type": "code",
   "execution_count": null,
   "id": "4fc0256d",
   "metadata": {},
   "outputs": [],
   "source": []
  },
  {
   "cell_type": "code",
   "execution_count": 117,
   "id": "f18113d6",
   "metadata": {},
   "outputs": [],
   "source": [
    "percentil_95 = df['age'].quantile(0.95)\n",
    "\n",
    "# Filtrar valores mayores que el percentil 0.9. Eliminadas 5400 filas\n",
    "df = df[df['age'] < percentil_95]"
   ]
  },
  {
   "cell_type": "code",
   "execution_count": null,
   "id": "c71f2d34",
   "metadata": {},
   "outputs": [],
   "source": []
  },
  {
   "cell_type": "code",
   "execution_count": 118,
   "id": "7fbc8348",
   "metadata": {},
   "outputs": [
    {
     "name": "stdout",
     "output_type": "stream",
     "text": [
      "148.0\n"
     ]
    }
   ],
   "source": [
    "percentil_995 = df['weight'].quantile(0.99)\n",
    "print(percentil_995)\n",
    "\n",
    "# Filtrar valores mayores que el percentil 0.9. Eliminadas 0, peso maximo \n",
    "df = df[(df['weight'] >= 140) | (df['age'] >= 12)]"
   ]
  },
  {
   "cell_type": "code",
   "execution_count": null,
   "id": "f0fc74f3",
   "metadata": {},
   "outputs": [],
   "source": []
  },
  {
   "cell_type": "code",
   "execution_count": 119,
   "id": "45dcbb7e",
   "metadata": {},
   "outputs": [
    {
     "data": {
      "text/plain": [
       "array(['HOSP', 'AMB'], dtype=object)"
      ]
     },
     "execution_count": 119,
     "metadata": {},
     "output_type": "execute_result"
    }
   ],
   "source": [
    "df['character_of_intervention'].unique()"
   ]
  },
  {
   "cell_type": "code",
   "execution_count": 120,
   "id": "9fd0cfe1",
   "metadata": {},
   "outputs": [],
   "source": [
    "dummies = pd.get_dummies(df['character_of_intervention'], prefix='character_of_intervention', dtype=int)\n",
    "\n",
    "# Renombrar las columnas según tus especificaciones\n",
    "dummies.rename(columns={'character_of_intervention_AMB': 'AMB', 'character_of_intervention_HOSP': 'HOSP'}, inplace=True)\n",
    "\n",
    "# Concatenar las columnas dummy con el DataFrame original\n",
    "df = pd.concat([df, dummies], axis=1)\n",
    "\n",
    "# Eliminar la columna original 'character_of_intervention'\n",
    "df.drop(columns=['character_of_intervention'], inplace=True)"
   ]
  },
  {
   "cell_type": "code",
   "execution_count": 121,
   "id": "774be572",
   "metadata": {},
   "outputs": [
    {
     "name": "stdout",
     "output_type": "stream",
     "text": [
      "0\n",
      "0\n"
     ]
    }
   ],
   "source": [
    "print(df['AMB'].isnull().sum())\n",
    "print(df['HOSP'].isnull().sum())"
   ]
  },
  {
   "cell_type": "code",
   "execution_count": null,
   "id": "8f43c368",
   "metadata": {},
   "outputs": [],
   "source": []
  },
  {
   "cell_type": "code",
   "execution_count": 122,
   "id": "c60dfe2c",
   "metadata": {},
   "outputs": [
    {
     "data": {
      "text/plain": [
       "gender\n",
       "female    60679\n",
       "male      51263\n",
       "Name: count, dtype: int64"
      ]
     },
     "execution_count": 122,
     "metadata": {},
     "output_type": "execute_result"
    }
   ],
   "source": [
    "df['gender'].value_counts()"
   ]
  },
  {
   "cell_type": "code",
   "execution_count": 123,
   "id": "e6d86a1e",
   "metadata": {},
   "outputs": [],
   "source": [
    "most_frequent_gender = df['gender'].mode()[0]\n",
    "df['gender'].fillna(most_frequent_gender, inplace=True)\n",
    "\n",
    "# Crear nuevas columnas 'female' y 'male' y asignar valores\n",
    "df['female'] = (df['gender'] == 'female').astype(int)\n",
    "df['male'] = (df['gender'] == 'male').astype(int)\n",
    "\n",
    "df.drop(columns=['gender'], inplace=True)"
   ]
  },
  {
   "cell_type": "code",
   "execution_count": 124,
   "id": "f80825c3",
   "metadata": {},
   "outputs": [
    {
     "data": {
      "text/plain": [
       "0"
      ]
     },
     "execution_count": 124,
     "metadata": {},
     "output_type": "execute_result"
    }
   ],
   "source": [
    "df['female'].isnull().sum()"
   ]
  },
  {
   "cell_type": "code",
   "execution_count": null,
   "id": "b75aa327",
   "metadata": {},
   "outputs": [],
   "source": []
  },
  {
   "cell_type": "code",
   "execution_count": 125,
   "id": "dd9f6f99",
   "metadata": {},
   "outputs": [],
   "source": [
    "df['health_service'] = df['health_service'].str.split().str[-1]"
   ]
  },
  {
   "cell_type": "code",
   "execution_count": 126,
   "id": "a2a9b021",
   "metadata": {},
   "outputs": [
    {
     "data": {
      "text/plain": [
       "array(['2', '3', '4', '5', '6', '7', '8', '10', '11', '13', '14', '15',\n",
       "       '16', '17', '1', '0', '19', '18', '20', '21', '9', '22', '23',\n",
       "       '25', '12', '24', '26', '28', '29', '30', '31', '32', '33', '34',\n",
       "       '36', '27', '37', '38', '35', '39', '40', '41', '42', '44', '45',\n",
       "       '47', '48', '49', '50', '51', '53', '54', '55', '56', '57', '58',\n",
       "       '52'], dtype=object)"
      ]
     },
     "execution_count": 126,
     "metadata": {},
     "output_type": "execute_result"
    }
   ],
   "source": [
    "df['health_service'].unique()"
   ]
  },
  {
   "cell_type": "code",
   "execution_count": 127,
   "id": "7a6b8665",
   "metadata": {},
   "outputs": [
    {
     "data": {
      "text/plain": [
       "Index(['main_procedure', 'main_condition', 'secondary_procedure',\n",
       "       'health_service', 'asa_score', 'age', 'weight', 'height', 'comorbidity',\n",
       "       'anesthesia_local', 'anesthesia_sedation', 'anesthesia_plexus_block',\n",
       "       'anesthesia_intradural', 'anesthesia_epidural', 'anesthesia_general',\n",
       "       'surgery_length_of_duration', 'cleaning_time', 'recovery_time', 'AMB',\n",
       "       'HOSP', 'female', 'male'],\n",
       "      dtype='object')"
      ]
     },
     "execution_count": 127,
     "metadata": {},
     "output_type": "execute_result"
    }
   ],
   "source": [
    "df.columns"
   ]
  },
  {
   "cell_type": "code",
   "execution_count": 128,
   "id": "35b57abc",
   "metadata": {},
   "outputs": [],
   "source": [
    "df['comorbidity']=df['comorbidity'].fillna(0)"
   ]
  },
  {
   "cell_type": "code",
   "execution_count": 129,
   "id": "c056bbfd",
   "metadata": {},
   "outputs": [],
   "source": [
    "for indice, valor in df['comorbidity'].items():\n",
    "    if valor in ('lung_disease', 'cancer', 'heart_disease', 'hypertension',\n",
    "       'kidney_disease', 'obesity','diabetes', 'drug_abuse',\n",
    "       'liver_disease', 'alcoholism', 'hiv', 'smoker'):\n",
    "        df.loc[indice, 'comorbidity'] = 1"
   ]
  },
  {
   "cell_type": "code",
   "execution_count": 130,
   "id": "305b17d5",
   "metadata": {},
   "outputs": [
    {
     "data": {
      "text/plain": [
       "array([1, 0], dtype=object)"
      ]
     },
     "execution_count": 130,
     "metadata": {},
     "output_type": "execute_result"
    }
   ],
   "source": [
    "df['comorbidity'].unique()"
   ]
  },
  {
   "cell_type": "code",
   "execution_count": null,
   "id": "6b5d2b18",
   "metadata": {},
   "outputs": [],
   "source": []
  },
  {
   "cell_type": "code",
   "execution_count": 131,
   "id": "64a19b75",
   "metadata": {},
   "outputs": [
    {
     "name": "stdout",
     "output_type": "stream",
     "text": [
      "0\n"
     ]
    }
   ],
   "source": [
    "# Calcula las proporciones de cada valor en 'asa_score'\n",
    "proporciones = df['asa_score'].value_counts(normalize=True)\n",
    "\n",
    "# Rellena los valores faltantes en 'asa_score' con valores muestreados de acuerdo con las proporciones\n",
    "valores_imputados = proporciones.sample(\n",
    "    n=df['asa_score'].isnull().sum(),\n",
    "    replace=True,\n",
    "    weights=proporciones.values\n",
    ").index\n",
    "\n",
    "# Rellena los valores faltantes en 'asa_score' con los valores imputados\n",
    "df.loc[df['asa_score'].isnull(), 'asa_score'] = valores_imputados\n",
    "\n",
    "\n",
    "# Verifica que ya no haya valores faltantes en 'asa_score'\n",
    "print(df['asa_score'].isnull().sum())\n"
   ]
  },
  {
   "cell_type": "code",
   "execution_count": 132,
   "id": "069a8940",
   "metadata": {},
   "outputs": [
    {
     "data": {
      "text/plain": [
       "asa_score\n",
       "2.0    57406\n",
       "3.0    27631\n",
       "1.0    25026\n",
       "4.0     1826\n",
       "5.0       54\n",
       "Name: count, dtype: int64"
      ]
     },
     "execution_count": 132,
     "metadata": {},
     "output_type": "execute_result"
    }
   ],
   "source": [
    "df['asa_score'].value_counts()\n"
   ]
  },
  {
   "cell_type": "code",
   "execution_count": 133,
   "id": "5f616b7e",
   "metadata": {},
   "outputs": [
    {
     "data": {
      "text/plain": [
       "Index(['main_procedure', 'main_condition', 'secondary_procedure',\n",
       "       'health_service', 'asa_score', 'age', 'weight', 'height', 'comorbidity',\n",
       "       'anesthesia_local', 'anesthesia_sedation', 'anesthesia_plexus_block',\n",
       "       'anesthesia_intradural', 'anesthesia_epidural', 'anesthesia_general',\n",
       "       'surgery_length_of_duration', 'cleaning_time', 'recovery_time', 'AMB',\n",
       "       'HOSP', 'female', 'male'],\n",
       "      dtype='object')"
      ]
     },
     "execution_count": 133,
     "metadata": {},
     "output_type": "execute_result"
    }
   ],
   "source": [
    "df.columns"
   ]
  },
  {
   "cell_type": "code",
   "execution_count": 134,
   "id": "581d26a1",
   "metadata": {},
   "outputs": [],
   "source": [
    "#Vacios rellena con -1\n",
    "df['main_procedure'] = df['main_procedure'].fillna(-1)\n",
    "#Pasa main procedure a string y si contiene letras no sirve y rellena con -1. Despues pasa a float\n",
    "df['main_procedure'] = df['main_procedure'].astype(str)\n",
    "df['main_procedure'] = df['main_procedure'].where(~df['main_procedure'].str.contains('[a-zA-Z]'), -1)\n",
    "df['main_procedure'] = df['main_procedure'].astype(float)\n",
    "\n",
    "#df['main_procedure'].unique()"
   ]
  },
  {
   "cell_type": "code",
   "execution_count": 135,
   "id": "dba820f4",
   "metadata": {},
   "outputs": [],
   "source": [
    "def asignar_etiqueta(valor):\n",
    "\n",
    "    diccionario_rangos = {\n",
    "        (-1.01, 0.01):  'Undefined',\n",
    "        (0.01, 0.96): 'Not elsewhere classified',\n",
    "        (0.99, 5.9): 'Nervous System',\n",
    "        (5.9, 7.99):'Endocrine System',\n",
    "        (7.99, 16.99): 'Eye',\n",
    "        (16.99, 17.81): 'Other MD and TP',\n",
    "        (17.99, 20.99): 'Ear',\n",
    "        (20.99, 29.99): 'Nose, Mouth and Pharynx',\n",
    "        (29.99, 34.99): 'Respiratory System',\n",
    "        (34.99, 39.99): 'Cardiovascular System',\n",
    "        (39.99, 41.99): 'Hemic and Lymphatic System',\n",
    "        (41.99, 54.99): 'Digestive System',\n",
    "        (54.99, 59.99): 'Urinary System',\n",
    "        (59.99, 64.99): 'Male Genital Organs',\n",
    "        (64.99, 71.99): 'Female Genital Organs',\n",
    "        (71.99, 75.99): 'Obstetrical Procedures',\n",
    "        (75.99, 84.99): 'Muscoloskeletal System',\n",
    "        (84.99, 86.99): 'Integumentary System',\n",
    "        (86.99, 99.99): 'Miscellaneous Diagnostic'\n",
    "    }\n",
    "    for rango, etiqueta in diccionario_rangos.items():\n",
    "        if rango[0] <= valor < rango[1]:\n",
    "            return etiqueta\n",
    "    return None\n",
    "\n",
    "\n",
    "# Aplica la función para asignar etiquetas a la columna main_condition\n",
    "df['etiqueta'] = df['main_procedure'].apply(asignar_etiqueta)\n",
    "\n",
    "# Crea las columnas adicionales y asigna 1 o 0 según corresponda\n",
    "for etiqueta in df['etiqueta'].unique():\n",
    "    if etiqueta is not None:\n",
    "        df[etiqueta] = df['etiqueta'].apply(lambda x: 1 if x == etiqueta else 0)\n",
    "\n",
    "# Elimina la columna original 'main_condition' y la columna auxiliar 'etiqueta'\n",
    "df.drop(columns=['main_procedure', 'etiqueta'], inplace=True)\n",
    "\n",
    "# Reordena las columnas para mover las nuevas columnas a la segunda posición\n"
   ]
  },
  {
   "cell_type": "code",
   "execution_count": 136,
   "id": "89e95f35",
   "metadata": {},
   "outputs": [
    {
     "data": {
      "text/plain": [
       "Index(['main_condition', 'secondary_procedure', 'health_service', 'asa_score',\n",
       "       'age', 'weight', 'height', 'comorbidity', 'anesthesia_local',\n",
       "       'anesthesia_sedation', 'anesthesia_plexus_block',\n",
       "       'anesthesia_intradural', 'anesthesia_epidural', 'anesthesia_general',\n",
       "       'surgery_length_of_duration', 'cleaning_time', 'recovery_time', 'AMB',\n",
       "       'HOSP', 'female', 'male', 'Respiratory System', 'Eye',\n",
       "       'Female Genital Organs', 'Other MD and TP', 'Digestive System',\n",
       "       'Undefined', 'Urinary System', 'Muscoloskeletal System',\n",
       "       'Hemic and Lymphatic System', 'Integumentary System',\n",
       "       'Male Genital Organs', 'Nose, Mouth and Pharynx',\n",
       "       'Cardiovascular System', 'Nervous System', 'Ear',\n",
       "       'Not elsewhere classified', 'Obstetrical Procedures',\n",
       "       'Endocrine System', 'Miscellaneous Diagnostic'],\n",
       "      dtype='object')"
      ]
     },
     "execution_count": 136,
     "metadata": {},
     "output_type": "execute_result"
    }
   ],
   "source": [
    "df.columns"
   ]
  },
  {
   "cell_type": "code",
   "execution_count": 137,
   "id": "fc90eb5e",
   "metadata": {},
   "outputs": [],
   "source": [
    "\n",
    "df['main_condition'] = df['main_condition'].fillna(-1)\n",
    "#Pasa a string, cambia . por espacio y desp elimina .. Si contiene letras -1. Desp a float.\n",
    "df['main_condition'] = df['main_condition'].astype(str)\n",
    "df['main_condition'] = df['main_condition'].str.replace(' ', '.')\n",
    "df['main_condition'] = df['main_condition'].str.rstrip('.')\n",
    "df['main_condition'] = df['main_condition'].where(~df['main_condition'].str.contains('[a-zA-Z]'), -1)\n",
    "df['main_condition'] = df['main_condition'].astype(float)"
   ]
  },
  {
   "cell_type": "code",
   "execution_count": 138,
   "id": "63542a18",
   "metadata": {},
   "outputs": [],
   "source": [
    "def asignar_etiqueta(valor):\n",
    "    diccionario_rangos = {\n",
    "        (0.01, 139.8): 'INFECTIOUS AND PARASITIC DISEASES (001-139)',\n",
    "        (140.0, 239.9): 'NEOPLASMS (140-239)',\n",
    "        (240.0, 279.9): 'ENDOCRINE, NUTRITIONAL AND METABOLIC DISEASES, AND IMMUNITY DISORDERS (240-279)',\n",
    "        (280.0, 289.9): 'DISEASES OF THE BLOOD AND BLOOD-FORMING ORGANS (280-289)',\n",
    "        (290.0, 319.0): 'MENTAL, BEHAVIORAL AND NEURODEVELOPMENTAL DISORDERS (290-319)',\n",
    "        (320.0, 389.9): 'DISEASES OF THE NERVOUS SYSTEM AND SENSE ORGANS (320-389)',\n",
    "        (390.0, 459.9): 'DISEASES OF THE CIRCULATORY SYSTEM (390-459)',\n",
    "        (460.0, 519.9): 'DISEASES OF THE RESPIRATORY SYSTEM (460-519)',\n",
    "        (520.0, 579.9): 'DISEASES OF THE DIGESTIVE SYSTEM (520-579)',\n",
    "        (580.0, 629.9): 'DISEASES OF THE GENITOURINARY SYSTEM (580-629)',\n",
    "        (630.0, 679.14): 'COMPLICATIONS OF PREGNANCY, CHILDBIRTH, AND THE PUERPERIUM (630-679)',\n",
    "        (680.0, 709.9): 'DISEASES OF THE SKIN AND SUBCUTANEOUS TISSUE (680-709)',\n",
    "        (710.0, 739.9): 'DISEASES OF THE MUSCULOSKELETAL SYSTEM AND CONNECTIVE TISSUE (710-739)',\n",
    "        (740.0, 759.9): 'CONGENITAL ANOMALIES (740-759)',\n",
    "        (760.0, 779.9): 'CERTAIN CONDITIONS ORIGINATING IN THE PERINATAL PERIOD (760-779)',\n",
    "        (780.01, 799.9): 'SYMPTOMS, SIGNS, AND ILL-DEFINED CONDITIONS (780-799)',\n",
    "        (800.0, 999.9): 'INJURY AND POISONING (800-999)',\n",
    "        (-5.0, 0.0): 'Undefined',\n",
    "    }\n",
    "    for rango, etiqueta in diccionario_rangos.items():\n",
    "        if rango[0] <= valor <= rango[1]:\n",
    "            return etiqueta\n",
    "    return None\n",
    "\n",
    "# Aplica la función para asignar etiquetas a la columna main_condition\n",
    "df['etiqueta'] = df['main_condition'].apply(asignar_etiqueta)\n",
    "\n",
    "# Crea las columnas adicionales y asigna 1 o 0 según corresponda\n",
    "for etiqueta in df['etiqueta'].unique():\n",
    "    if etiqueta is not None:\n",
    "        df[etiqueta] = df['etiqueta'].apply(lambda x: 1 if x == etiqueta else 0)\n",
    "\n",
    "# Elimina la columna original 'main_condition' y la columna auxiliar 'etiqueta'\n",
    "df.drop(columns=['main_condition', 'etiqueta'], inplace=True)\n",
    "\n",
    "# Reordena las columnas para mover las nuevas columnas a la segunda posición\n"
   ]
  },
  {
   "cell_type": "code",
   "execution_count": 139,
   "id": "b217e585",
   "metadata": {},
   "outputs": [
    {
     "data": {
      "text/plain": [
       "Index(['secondary_procedure', 'health_service', 'asa_score', 'age', 'weight',\n",
       "       'height', 'comorbidity', 'anesthesia_local', 'anesthesia_sedation',\n",
       "       'anesthesia_plexus_block', 'anesthesia_intradural',\n",
       "       'anesthesia_epidural', 'anesthesia_general',\n",
       "       'surgery_length_of_duration', 'cleaning_time', 'recovery_time', 'AMB',\n",
       "       'HOSP', 'female', 'male', 'Respiratory System', 'Eye',\n",
       "       'Female Genital Organs', 'Other MD and TP', 'Digestive System',\n",
       "       'Undefined', 'Urinary System', 'Muscoloskeletal System',\n",
       "       'Hemic and Lymphatic System', 'Integumentary System',\n",
       "       'Male Genital Organs', 'Nose, Mouth and Pharynx',\n",
       "       'Cardiovascular System', 'Nervous System', 'Ear',\n",
       "       'Not elsewhere classified', 'Obstetrical Procedures',\n",
       "       'Endocrine System', 'Miscellaneous Diagnostic', 'NEOPLASMS (140-239)',\n",
       "       'DISEASES OF THE NERVOUS SYSTEM AND SENSE ORGANS (320-389)',\n",
       "       'DISEASES OF THE DIGESTIVE SYSTEM (520-579)',\n",
       "       'DISEASES OF THE MUSCULOSKELETAL SYSTEM AND CONNECTIVE TISSUE (710-739)',\n",
       "       'INFECTIOUS AND PARASITIC DISEASES (001-139)',\n",
       "       'DISEASES OF THE GENITOURINARY SYSTEM (580-629)',\n",
       "       'INJURY AND POISONING (800-999)',\n",
       "       'DISEASES OF THE RESPIRATORY SYSTEM (460-519)',\n",
       "       'SYMPTOMS, SIGNS, AND ILL-DEFINED CONDITIONS (780-799)',\n",
       "       'DISEASES OF THE SKIN AND SUBCUTANEOUS TISSUE (680-709)',\n",
       "       'DISEASES OF THE CIRCULATORY SYSTEM (390-459)',\n",
       "       'ENDOCRINE, NUTRITIONAL AND METABOLIC DISEASES, AND IMMUNITY DISORDERS (240-279)',\n",
       "       'COMPLICATIONS OF PREGNANCY, CHILDBIRTH, AND THE PUERPERIUM (630-679)',\n",
       "       'CONGENITAL ANOMALIES (740-759)',\n",
       "       'MENTAL, BEHAVIORAL AND NEURODEVELOPMENTAL DISORDERS (290-319)',\n",
       "       'DISEASES OF THE BLOOD AND BLOOD-FORMING ORGANS (280-289)',\n",
       "       'CERTAIN CONDITIONS ORIGINATING IN THE PERINATAL PERIOD (760-779)'],\n",
       "      dtype='object')"
      ]
     },
     "execution_count": 139,
     "metadata": {},
     "output_type": "execute_result"
    }
   ],
   "source": [
    "df.columns"
   ]
  },
  {
   "cell_type": "code",
   "execution_count": 140,
   "id": "a8ba2202",
   "metadata": {},
   "outputs": [],
   "source": [
    "df['health_service'] = df['health_service'].astype(int)\n",
    "df['comorbidity'] = df['comorbidity'].astype(int)"
   ]
  },
  {
   "cell_type": "code",
   "execution_count": 141,
   "id": "b6c16822",
   "metadata": {},
   "outputs": [],
   "source": [
    "x = df[['secondary_procedure', 'health_service', 'asa_score', 'age', 'weight',\n",
    "       'height', 'comorbidity', 'anesthesia_local', 'anesthesia_sedation',\n",
    "       'anesthesia_plexus_block', 'anesthesia_intradural',\n",
    "       'anesthesia_epidural', 'anesthesia_general', 'cleaning_time', 'recovery_time',\n",
    "       'HOSP', 'male', 'Respiratory System', 'Eye',\n",
    "       'Female Genital Organs', 'Other MD and TP', 'Digestive System',\n",
    "       'Undefined', 'Urinary System', 'Muscoloskeletal System',\n",
    "       'Hemic and Lymphatic System', 'Integumentary System',\n",
    "       'Male Genital Organs', 'Nose, Mouth and Pharynx',\n",
    "       'Cardiovascular System', 'Nervous System', 'Ear',\n",
    "       'Not elsewhere classified', 'Obstetrical Procedures',\n",
    "       'Endocrine System', 'Miscellaneous Diagnostic', 'NEOPLASMS (140-239)',\n",
    "       'DISEASES OF THE NERVOUS SYSTEM AND SENSE ORGANS (320-389)',\n",
    "       'DISEASES OF THE DIGESTIVE SYSTEM (520-579)',\n",
    "       'DISEASES OF THE MUSCULOSKELETAL SYSTEM AND CONNECTIVE TISSUE (710-739)',\n",
    "       'INFECTIOUS AND PARASITIC DISEASES (001-139)',\n",
    "       'DISEASES OF THE GENITOURINARY SYSTEM (580-629)',\n",
    "       'INJURY AND POISONING (800-999)',\n",
    "       'DISEASES OF THE RESPIRATORY SYSTEM (460-519)',\n",
    "       'SYMPTOMS, SIGNS, AND ILL-DEFINED CONDITIONS (780-799)',\n",
    "       'DISEASES OF THE SKIN AND SUBCUTANEOUS TISSUE (680-709)',\n",
    "       'DISEASES OF THE CIRCULATORY SYSTEM (390-459)',\n",
    "       'ENDOCRINE, NUTRITIONAL AND METABOLIC DISEASES, AND IMMUNITY DISORDERS (240-279)',\n",
    "       'COMPLICATIONS OF PREGNANCY, CHILDBIRTH, AND THE PUERPERIUM (630-679)',\n",
    "       'CONGENITAL ANOMALIES (740-759)',\n",
    "       'MENTAL, BEHAVIORAL AND NEURODEVELOPMENTAL DISORDERS (290-319)',\n",
    "       'DISEASES OF THE BLOOD AND BLOOD-FORMING ORGANS (280-289)',\n",
    "       'CERTAIN CONDITIONS ORIGINATING IN THE PERINATAL PERIOD (760-779)']]\n",
    "\n",
    "\n",
    "y = df['surgery_length_of_duration']"
   ]
  },
  {
   "cell_type": "code",
   "execution_count": 69,
   "id": "562e40f3",
   "metadata": {},
   "outputs": [
    {
     "data": {
      "text/plain": [
       "(111943, 53)"
      ]
     },
     "execution_count": 69,
     "metadata": {},
     "output_type": "execute_result"
    }
   ],
   "source": [
    "x.shape"
   ]
  },
  {
   "cell_type": "code",
   "execution_count": 70,
   "id": "b8be7167",
   "metadata": {},
   "outputs": [],
   "source": [
    "X_train, X_test, y_train, y_test= train_test_split(x, y, test_size=.2, random_state=123)\n",
    "\n",
    "scaler_x = MinMaxScaler()\n",
    "x = scaler_x.fit_transform(x)\n"
   ]
  },
  {
   "cell_type": "code",
   "execution_count": 33,
   "id": "c0f2ad05",
   "metadata": {},
   "outputs": [],
   "source": [
    "##LINEAR REGRESSION"
   ]
  },
  {
   "cell_type": "code",
   "execution_count": 34,
   "id": "3a113a11",
   "metadata": {},
   "outputs": [],
   "source": [
    "model = LinearRegression()\n",
    "\n",
    "model.fit(X_train, y_train)\n",
    "\n",
    "y_pred = model.predict(X_test)"
   ]
  },
  {
   "cell_type": "code",
   "execution_count": 38,
   "id": "dda12573",
   "metadata": {},
   "outputs": [
    {
     "data": {
      "text/plain": [
       "<Figure size 432x288 with 0 Axes>"
      ]
     },
     "execution_count": 38,
     "metadata": {},
     "output_type": "execute_result"
    },
    {
     "data": {
      "image/png": "[encoded data removed]",
      "text/plain": [
       "<Figure size 432x288 with 1 Axes>"
      ]
     },
     "metadata": {
      "needs_background": "light"
     },
     "output_type": "display_data"
    },
    {
     "data": {
      "text/plain": [
       "<Figure size 432x288 with 0 Axes>"
      ]
     },
     "metadata": {},
     "output_type": "display_data"
    }
   ],
   "source": [
    "plt.scatter(y_test, y_pred)\n",
    "plt.xlabel(\"Valores reales\")\n",
    "plt.ylabel(\"Valores predichos\")\n",
    "plt.figure()"
   ]
  },
  {
   "cell_type": "code",
   "execution_count": 39,
   "id": "4cf23d00",
   "metadata": {},
   "outputs": [
    {
     "data": {
      "text/plain": [
       "<Figure size 432x288 with 0 Axes>"
      ]
     },
     "execution_count": 39,
     "metadata": {},
     "output_type": "execute_result"
    },
    {
     "data": {
      "image/png": "[encoded data removed]",
      "text/plain": [
       "<Figure size 432x288 with 1 Axes>"
      ]
     },
     "metadata": {
      "needs_background": "light"
     },
     "output_type": "display_data"
    },
    {
     "data": {
      "text/plain": [
       "<Figure size 432x288 with 0 Axes>"
      ]
     },
     "metadata": {},
     "output_type": "display_data"
    }
   ],
   "source": [
    "plt.plot(y_test, y_test, label='Línea de 45 grados', color='r', linestyle='--')\n",
    "plt.scatter(y_test, y_pred, label='Valores predichos', alpha=0.5)\n",
    "plt.xlabel(\"Valores reales\")\n",
    "plt.ylabel(\"Valores predichos\")\n",
    "plt.figure()"
   ]
  },
  {
   "cell_type": "code",
   "execution_count": null,
   "id": "f3892baf",
   "metadata": {},
   "outputs": [],
   "source": []
  },
  {
   "cell_type": "code",
   "execution_count": null,
   "id": "4f30c1e5",
   "metadata": {},
   "outputs": [],
   "source": [
    "##XGBoost"
   ]
  },
  {
   "cell_type": "code",
   "execution_count": 142,
   "id": "0d0745f6",
   "metadata": {},
   "outputs": [],
   "source": [
    "xgb_clf = xgb.XGBRegressor(random_state=123)"
   ]
  },
  {
   "cell_type": "code",
   "execution_count": 108,
   "id": "c6f3130f",
   "metadata": {},
   "outputs": [],
   "source": [
    "df['health_service'] = df['health_service'].astype(int)\n",
    "df['comorbidity'] = df['comorbidity'].astype(int)"
   ]
  },
  {
   "cell_type": "code",
   "execution_count": 143,
   "id": "144eadcc",
   "metadata": {},
   "outputs": [],
   "source": [
    "X_train, X_test, y_train, y_test= train_test_split(x, y, test_size=.2, random_state=123)\n",
    "\n",
    "scaler_x = MinMaxScaler()\n",
    "x = scaler_x.fit_transform(x)\n"
   ]
  },
  {
   "cell_type": "code",
   "execution_count": 110,
   "id": "8b821bdb",
   "metadata": {},
   "outputs": [
    {
     "data": {
      "text/plain": [
       "2         2\n",
       "3         3\n",
       "5         4\n",
       "6         5\n",
       "7         5\n",
       "         ..\n",
       "133847    7\n",
       "133848    7\n",
       "133849    3\n",
       "133850    3\n",
       "133851    3\n",
       "Name: health_service, Length: 111943, dtype: int32"
      ]
     },
     "execution_count": 110,
     "metadata": {},
     "output_type": "execute_result"
    }
   ],
   "source": [
    "df.health_service"
   ]
  },
  {
   "cell_type": "code",
   "execution_count": 144,
   "id": "248ed2f0",
   "metadata": {
    "scrolled": true
   },
   "outputs": [
    {
     "data": {
      "text/html": [
       "<style>#sk-container-id-1 {color: black;}#sk-container-id-1 pre{padding: 0;}#sk-container-id-1 div.sk-toggleable {background-color: white;}#sk-container-id-1 label.sk-toggleable__label {cursor: pointer;display: block;width: 100%;margin-bottom: 0;padding: 0.3em;box-sizing: border-box;text-align: center;}#sk-container-id-1 label.sk-toggleable__label-arrow:before {content: \"▸\";float: left;margin-right: 0.25em;color: #696969;}#sk-container-id-1 label.sk-toggleable__label-arrow:hover:before {color: black;}#sk-container-id-1 div.sk-estimator:hover label.sk-toggleable__label-arrow:before {color: black;}#sk-container-id-1 div.sk-toggleable__content {max-height: 0;max-width: 0;overflow: hidden;text-align: left;background-color: #f0f8ff;}#sk-container-id-1 div.sk-toggleable__content pre {margin: 0.2em;color: black;border-radius: 0.25em;background-color: #f0f8ff;}#sk-container-id-1 input.sk-toggleable__control:checked~div.sk-toggleable__content {max-height: 200px;max-width: 100%;overflow: auto;}#sk-container-id-1 input.sk-toggleable__control:checked~label.sk-toggleable__label-arrow:before {content: \"▾\";}#sk-container-id-1 div.sk-estimator input.sk-toggleable__control:checked~label.sk-toggleable__label {background-color: #d4ebff;}#sk-container-id-1 div.sk-label input.sk-toggleable__control:checked~label.sk-toggleable__label {background-color: #d4ebff;}#sk-container-id-1 input.sk-hidden--visually {border: 0;clip: rect(1px 1px 1px 1px);clip: rect(1px, 1px, 1px, 1px);height: 1px;margin: -1px;overflow: hidden;padding: 0;position: absolute;width: 1px;}#sk-container-id-1 div.sk-estimator {font-family: monospace;background-color: #f0f8ff;border: 1px dotted black;border-radius: 0.25em;box-sizing: border-box;margin-bottom: 0.5em;}#sk-container-id-1 div.sk-estimator:hover {background-color: #d4ebff;}#sk-container-id-1 div.sk-parallel-item::after {content: \"\";width: 100%;border-bottom: 1px solid gray;flex-grow: 1;}#sk-container-id-1 div.sk-label:hover label.sk-toggleable__label {background-color: #d4ebff;}#sk-container-id-1 div.sk-serial::before {content: \"\";position: absolute;border-left: 1px solid gray;box-sizing: border-box;top: 0;bottom: 0;left: 50%;z-index: 0;}#sk-container-id-1 div.sk-serial {display: flex;flex-direction: column;align-items: center;background-color: white;padding-right: 0.2em;padding-left: 0.2em;position: relative;}#sk-container-id-1 div.sk-item {position: relative;z-index: 1;}#sk-container-id-1 div.sk-parallel {display: flex;align-items: stretch;justify-content: center;background-color: white;position: relative;}#sk-container-id-1 div.sk-item::before, #sk-container-id-1 div.sk-parallel-item::before {content: \"\";position: absolute;border-left: 1px solid gray;box-sizing: border-box;top: 0;bottom: 0;left: 50%;z-index: -1;}#sk-container-id-1 div.sk-parallel-item {display: flex;flex-direction: column;z-index: 1;position: relative;background-color: white;}#sk-container-id-1 div.sk-parallel-item:first-child::after {align-self: flex-end;width: 50%;}#sk-container-id-1 div.sk-parallel-item:last-child::after {align-self: flex-start;width: 50%;}#sk-container-id-1 div.sk-parallel-item:only-child::after {width: 0;}#sk-container-id-1 div.sk-dashed-wrapped {border: 1px dashed gray;margin: 0 0.4em 0.5em 0.4em;box-sizing: border-box;padding-bottom: 0.4em;background-color: white;}#sk-container-id-1 div.sk-label label {font-family: monospace;font-weight: bold;display: inline-block;line-height: 1.2em;}#sk-container-id-1 div.sk-label-container {text-align: center;}#sk-container-id-1 div.sk-container {/* jupyter's `normalize.less` sets `[hidden] { display: none; }` but bootstrap.min.css set `[hidden] { display: none !important; }` so we also need the `!important` here to be able to override the default hidden behavior on the sphinx rendered scikit-learn.org. See: https://github.com/scikit-learn/scikit-learn/issues/21755 */display: inline-block !important;position: relative;}#sk-container-id-1 div.sk-text-repr-fallback {display: none;}</style><div id=\"sk-container-id-1\" class=\"sk-top-container\"><div class=\"sk-text-repr-fallback\"><pre>XGBRegressor(base_score=None, booster=None, callbacks=None,\n",
       "             colsample_bylevel=None, colsample_bynode=None,\n",
       "             colsample_bytree=None, device=None, early_stopping_rounds=None,\n",
       "             enable_categorical=False, eval_metric=None, feature_types=None,\n",
       "             gamma=None, grow_policy=None, importance_type=None,\n",
       "             interaction_constraints=None, learning_rate=0.1, max_bin=None,\n",
       "             max_cat_threshold=None, max_cat_to_onehot=None,\n",
       "             max_delta_step=None, max_depth=5, max_leaves=None,\n",
       "             min_child_weight=3, missing=nan, monotone_constraints=None,\n",
       "             multi_strategy=None, n_estimators=300, n_jobs=None,\n",
       "             num_parallel_tree=None, random_state=123, ...)</pre><b>In a Jupyter environment, please rerun this cell to show the HTML representation or trust the notebook. <br />On GitHub, the HTML representation is unable to render, please try loading this page with nbviewer.org.</b></div><div class=\"sk-container\" hidden><div class=\"sk-item\"><div class=\"sk-estimator sk-toggleable\"><input class=\"sk-toggleable__control sk-hidden--visually\" id=\"sk-estimator-id-1\" type=\"checkbox\" checked><label for=\"sk-estimator-id-1\" class=\"sk-toggleable__label sk-toggleable__label-arrow\">XGBRegressor</label><div class=\"sk-toggleable__content\"><pre>XGBRegressor(base_score=None, booster=None, callbacks=None,\n",
       "             colsample_bylevel=None, colsample_bynode=None,\n",
       "             colsample_bytree=None, device=None, early_stopping_rounds=None,\n",
       "             enable_categorical=False, eval_metric=None, feature_types=None,\n",
       "             gamma=None, grow_policy=None, importance_type=None,\n",
       "             interaction_constraints=None, learning_rate=0.1, max_bin=None,\n",
       "             max_cat_threshold=None, max_cat_to_onehot=None,\n",
       "             max_delta_step=None, max_depth=5, max_leaves=None,\n",
       "             min_child_weight=3, missing=nan, monotone_constraints=None,\n",
       "             multi_strategy=None, n_estimators=300, n_jobs=None,\n",
       "             num_parallel_tree=None, random_state=123, ...)</pre></div></div></div></div></div>"
      ],
      "text/plain": [
       "XGBRegressor(base_score=None, booster=None, callbacks=None,\n",
       "             colsample_bylevel=None, colsample_bynode=None,\n",
       "             colsample_bytree=None, device=None, early_stopping_rounds=None,\n",
       "             enable_categorical=False, eval_metric=None, feature_types=None,\n",
       "             gamma=None, grow_policy=None, importance_type=None,\n",
       "             interaction_constraints=None, learning_rate=0.1, max_bin=None,\n",
       "             max_cat_threshold=None, max_cat_to_onehot=None,\n",
       "             max_delta_step=None, max_depth=5, max_leaves=None,\n",
       "             min_child_weight=3, missing=nan, monotone_constraints=None,\n",
       "             multi_strategy=None, n_estimators=300, n_jobs=None,\n",
       "             num_parallel_tree=None, random_state=123, ...)"
      ]
     },
     "execution_count": 144,
     "metadata": {},
     "output_type": "execute_result"
    }
   ],
   "source": [
    "## Set max_depth to be 10 instead of 100\n",
    "xgb_clf.set_params(learning_rate = 0.1, max_depth =  5, \n",
    "                   min_child_weight=3, n_estimators= 300)\n",
    "\n",
    "# Fit it to the training set\n",
    "xgb_clf.fit(X_train, y_train)\n"
   ]
  },
  {
   "cell_type": "code",
   "execution_count": 145,
   "id": "c442f8b0",
   "metadata": {},
   "outputs": [],
   "source": [
    "y_pred = xgb_clf.predict(X_test)"
   ]
  },
  {
   "cell_type": "code",
   "execution_count": 146,
   "id": "d514732b",
   "metadata": {},
   "outputs": [
    {
     "data": {
      "text/plain": [
       "<Figure size 432x288 with 0 Axes>"
      ]
     },
     "execution_count": 146,
     "metadata": {},
     "output_type": "execute_result"
    },
    {
     "data": {
      "image/png": "[encoded data removed]",
      "text/plain": [
       "<Figure size 432x288 with 1 Axes>"
      ]
     },
     "metadata": {
      "needs_background": "light"
     },
     "output_type": "display_data"
    },
    {
     "data": {
      "text/plain": [
       "<Figure size 432x288 with 0 Axes>"
      ]
     },
     "metadata": {},
     "output_type": "display_data"
    }
   ],
   "source": [
    "plt.scatter(y_test, y_pred)\n",
    "plt.xlabel(\"Valores reales\")\n",
    "plt.ylabel(\"Valores predichos\")\n",
    "plt.figure()"
   ]
  },
  {
   "cell_type": "code",
   "execution_count": 157,
   "id": "b40f9947",
   "metadata": {},
   "outputs": [
    {
     "name": "stdout",
     "output_type": "stream",
     "text": [
      "[[0.         0.03448276 0.25       ... 0.         0.         0.        ]\n",
      " [0.         0.05172414 0.25       ... 0.         0.         0.        ]\n",
      " [1.         0.06896552 0.5        ... 0.         0.         0.        ]\n",
      " ...\n",
      " [1.         0.05172414 0.         ... 0.         0.         0.        ]\n",
      " [0.         0.05172414 0.25       ... 0.         0.         0.        ]\n",
      " [1.         0.05172414 0.25       ... 0.         0.         0.        ]]\n",
      "['Feature 15', 'Feature 12', 'Feature 38', 'Feature 11', 'Feature 19', 'Feature 29', 'Feature 43', 'Feature 20', 'Feature 36', 'Feature 31', 'Feature 10', 'Feature 1', 'Feature 9', 'Feature 39', 'Feature 26']\n"
     ]
    },
    {
     "data": {
      "image/png": "[encoded data removed]",
      "text/plain": [
       "<Figure size 720x432 with 1 Axes>"
      ]
     },
     "metadata": {
      "needs_background": "light"
     },
     "output_type": "display_data"
    }
   ],
   "source": [
    "import xgboost as xgb\n",
    "import matplotlib.pyplot as plt\n",
    "\n",
    "# Suponiendo que tienes un modelo XGBoost entrenado llamado 'model'\n",
    "# Y que tienes una lista de nombres de características llamada 'feature_names'\n",
    "\n",
    "# Obtener las características más importantes y sus índices\n",
    "importances = xgb_clf.feature_importances_\n",
    "indices = np.argsort(importances)[::-1]\n",
    "\n",
    "# Obtener los nombres de las 15 características más importantes\n",
    "top_15_feature_names = [feature_names[i] for i in indices[:15]]\n",
    "print(x)\n",
    "print(top_15_feature_names)\n",
    "\n",
    "# Obtener las importancias de las 15 características más importantes\n",
    "top_15_importances = importances[indices[:15]]\n",
    "\n",
    "# Crear el gráfico de barras\n",
    "plt.figure(figsize=(10, 6))\n",
    "plt.barh(top_15_feature_names, top_15_importances, color='skyblue')\n",
    "plt.xlabel('Importancia')\n",
    "plt.ylabel('Característica')\n",
    "plt.title('Las 15 características más importantes')\n",
    "plt.gca().invert_yaxis()  # Invertir el eje y para que las características más importantes estén arriba\n",
    "plt.show()\n",
    "\n"
   ]
  },
  {
   "cell_type": "code",
   "execution_count": 159,
   "id": "ccdfdb39",
   "metadata": {},
   "outputs": [
    {
     "data": {
      "image/png": "[encoded data removed]",
      "text/plain": [
       "<Figure size 720x432 with 1 Axes>"
      ]
     },
     "metadata": {
      "needs_background": "light"
     },
     "output_type": "display_data"
    }
   ],
   "source": [
    "import numpy as np\n",
    "import xgboost as xgb\n",
    "import matplotlib.pyplot as plt\n",
    "from sklearn.model_selection import learning_curve\n",
    "\n",
    "def plot_learning_curve(estimator, X, y, ylim=None, cv=None, n_jobs=None, train_sizes=np.linspace(.1, 1.0, 5)):\n",
    "    \"\"\"\n",
    "    Genera una curva de aprendizaje.\n",
    "    \n",
    "    Parámetros:\n",
    "        estimator: Objeto del estimador XGBoost.\n",
    "        X: Conjunto de características.\n",
    "        y: Variable objetivo.\n",
    "        ylim: Tuple, shape (ymin, ymax), valores estáticos para fijar el límite y.\n",
    "        cv: Objeto de validación cruzada.\n",
    "        n_jobs: Número de trabajos en paralelo.\n",
    "        train_sizes: Matriz con los tamaños de entrenamiento especificados.\n",
    "    \"\"\"\n",
    "    plt.figure(figsize=(10, 6))\n",
    "    plt.title(\"Curva de Aprendizaje\")\n",
    "    if ylim is not None:\n",
    "        plt.ylim(*ylim)\n",
    "    plt.xlabel(\"Tamaño del Conjunto de Entrenamiento\")\n",
    "    plt.ylabel(\"Puntuación\")\n",
    "    train_sizes, train_scores, test_scores = learning_curve(estimator, X, y, cv=cv, n_jobs=n_jobs, train_sizes=train_sizes)\n",
    "    train_scores_mean = np.mean(train_scores, axis=1)\n",
    "    train_scores_std = np.std(train_scores, axis=1)\n",
    "    test_scores_mean = np.mean(test_scores, axis=1)\n",
    "    test_scores_std = np.std(test_scores, axis=1)\n",
    "\n",
    "    plt.fill_between(train_sizes, train_scores_mean - train_scores_std, train_scores_mean + train_scores_std, alpha=0.1, color=\"r\")\n",
    "    plt.fill_between(train_sizes, test_scores_mean - test_scores_std, test_scores_mean + test_scores_std, alpha=0.1, color=\"g\")\n",
    "    plt.plot(train_sizes, train_scores_mean, 'o-', color=\"r\", label=\"Puntuación de Entrenamiento\")\n",
    "    plt.plot(train_sizes, test_scores_mean, 'o-', color=\"g\", label=\"Puntuación de Validación Cruzada\")\n",
    "\n",
    "    plt.legend(loc=\"best\")\n",
    "    return plt\n",
    "\n",
    "# Suponiendo que tienes un modelo XGBoost entrenado llamado 'xgb_reg'\n",
    "# Y que tienes tus datos de entrenamiento 'X_train' y 'y_train'\n",
    "\n",
    "# Plot learning curve\n",
    "plot_learning_curve(xgb_clf, X_train, y_train, cv=5, n_jobs=-1)\n",
    "plt.show()\n"
   ]
  },
  {
   "cell_type": "code",
   "execution_count": 44,
   "id": "5b1d0471",
   "metadata": {},
   "outputs": [
    {
     "name": "stdout",
     "output_type": "stream",
     "text": [
      "1858.8608375134693\n",
      "28.632774481167747\n"
     ]
    }
   ],
   "source": [
    "mse = mean_squared_error(y_test, y_pred)\n",
    "mae = mean_absolute_error(y_test, y_pred)\n",
    "\n",
    "print(mse)\n",
    "print(mae)\n"
   ]
  },
  {
   "cell_type": "code",
   "execution_count": null,
   "id": "494fac54",
   "metadata": {},
   "outputs": [],
   "source": []
  },
  {
   "cell_type": "code",
   "execution_count": 45,
   "id": "57bc7218",
   "metadata": {},
   "outputs": [
    {
     "data": {
      "text/plain": [
       "['mejor_modelo_1.joblib']"
      ]
     },
     "execution_count": 45,
     "metadata": {},
     "output_type": "execute_result"
    }
   ],
   "source": [
    "from joblib import dump, load\n",
    "dump(xgb_clf, 'mejor_modelo_1.joblib') \n"
   ]
  }
 ],
 "metadata": {
  "kernelspec": {
   "display_name": "Python 3 (ipykernel)",
   "language": "python",
   "name": "python3"
  },
  "language_info": {
   "codemirror_mode": {
    "name": "ipython",
    "version": 3
   },
   "file_extension": ".py",
   "mimetype": "text/x-python",
   "name": "python",
   "nbconvert_exporter": "python",
   "pygments_lexer": "ipython3",
   "version": "3.9.5"
  }
 },
 "nbformat": 4,
 "nbformat_minor": 5
}
