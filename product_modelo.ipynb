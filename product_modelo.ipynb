{
 "cells": [
  {
   "cell_type": "code",
   "execution_count": 1,
   "id": "f0240bee",
   "metadata": {},
   "outputs": [],
   "source": [
    "#pip install flask"
   ]
  },
  {
   "cell_type": "code",
   "execution_count": 2,
   "id": "c21b2225",
   "metadata": {},
   "outputs": [],
   "source": [
    "import numpy as np\n",
    "import pandas as pd\n",
    "import pandas as pd\n",
    "from joblib import load\n",
    "\n",
    "from sklearn.compose import ColumnTransformer\n",
    "from sklearn.impute import SimpleImputer\n",
    "from sklearn.pipeline import Pipeline\n",
    "from sklearn.preprocessing import KBinsDiscretizer, MinMaxScaler, OneHotEncoder, OrdinalEncoder\n",
    "import matplotlib.pyplot as plt\n",
    "from sklearn.model_selection import train_test_split\n",
    "from sklearn.linear_model import LinearRegression\n",
    "from sklearn.model_selection import train_test_split\n",
    "import xgboost as xgb\n"
   ]
  },
  {
   "cell_type": "markdown",
   "id": "dfbfdc45",
   "metadata": {},
   "source": [
    "### Cargar Dataframe"
   ]
  },
  {
   "cell_type": "code",
   "execution_count": 3,
   "id": "b4359535",
   "metadata": {},
   "outputs": [],
   "source": [
    "\n",
    "def transformaciones(entrada):\n",
    "    df =pd.DataFrame.from_dict(entrada, orient='index').T\n",
    "    columnas_float = ['main_procedure', 'main_condition', 'secondary_procedure',  'asa_score',  'age', 'weight', 'height', 'anesthesia_local', 'anesthesia_sedation', 'anesthesia_plexus_block', 'anesthesia_intradural', 'anesthesia_epidural', 'anesthesia_general', 'cleaning_time' ,'recovery_time']\n",
    "\n",
    "    df[columnas_float] = df[columnas_float].astype(float)\n",
    "\n",
    "    #Transformacion character_of_intervention\n",
    "    df['HOSP'] = df['character_of_intervention'].map(lambda x: 1 if x== 'HOSP' else 0)\n",
    "    df['male'] = df['gender'].map(lambda x: 1 if x== 'male' else 0)\n",
    "\n",
    "    df.drop(['character_of_intervention','gender'],axis=1, inplace=True)\n",
    "    \n",
    "    #Transformacion health_service\n",
    "    df['health_service'] = df['health_service'].str.split().str[-1]\n",
    "    \n",
    "    #Transformacion comorbidity\n",
    "    for indice, valor in df['comorbidity'].items():\n",
    "        if valor in ('lung_disease', 'cancer', 'heart_disease', 'hypertension',\n",
    "           'kidney_disease', 'obesity','diabetes', 'drug_abuse',\n",
    "           'liver_disease', 'alcoholism', 'hiv', 'smoker'):\n",
    "            df.loc[indice, 'comorbidity'] = 1\n",
    "        else:\n",
    "            df.loc[indice, 'comorbidity'] = 0\n",
    "        \n",
    "    #Transformacion asa_score\n",
    "    df['asa_score'] = df['asa_score'].fillna(2.0)\n",
    "    \n",
    "    \n",
    "    #Transformacion main_procedure\n",
    "    df['main_procedure'] = df['main_procedure'].fillna(-1)\n",
    "\n",
    "    df['main_procedure'] = df['main_procedure'].astype(str)\n",
    "    df['main_procedure'] = df['main_procedure'].where(~df['main_procedure'].str.contains('[a-zA-Z]'), -1)\n",
    "    df['main_procedure'] = df['main_procedure'].astype(float)\n",
    "    \n",
    "    def asignar_etiqueta_procedure(valor):\n",
    "        diccionario_rangos_procedure = {\n",
    "            (-1.01, 0.01):  'Undefined',\n",
    "            (0.01, 0.96): 'Not elsewhere classified',\n",
    "            (0.99, 5.9): 'Nervous System',\n",
    "            (5.9, 7.99):'Endocrine System',\n",
    "            (7.99, 16.99): 'Eye',\n",
    "            (16.99, 17.81): 'Other MD and TP',\n",
    "            (17.99, 20.99): 'Ear',\n",
    "            (20.99, 29.99): 'Nose, Mouth and Pharynx',\n",
    "            (29.99, 34.99): 'Respiratory System',\n",
    "            (34.99, 39.99): 'Cardiovascular System',\n",
    "            (39.99, 41.99): 'Hemic and Lymphatic System',\n",
    "            (41.99, 54.99): 'Digestive System',\n",
    "            (54.99, 59.99): 'Urinary System',\n",
    "            (59.99, 64.99): 'Male Genital Organs',\n",
    "            (64.99, 71.99): 'Female Genital Organs',\n",
    "            (71.99, 75.99): 'Obstetrical Procedures',\n",
    "            (75.99, 84.99): 'Muscoloskeletal System',\n",
    "            (84.99, 86.99): 'Integumentary System',\n",
    "            (86.99, 99.99): 'Miscellaneous Diagnostic'\n",
    "        }\n",
    "        for rango_procedure, etiqueta_procedure in diccionario_rangos_procedure.items():\n",
    "            if rango_procedure[0] <= valor < rango_procedure[1]:\n",
    "                return etiqueta_procedure\n",
    "        return None\n",
    "\n",
    "    df['etiqueta'] = df['main_procedure'].apply(asignar_etiqueta_procedure)\n",
    "\n",
    "    for etiqueta_procedure in df['etiqueta'].unique():\n",
    "        if etiqueta_procedure is not None:\n",
    "            df[etiqueta_procedure] = df['etiqueta'].apply(lambda x: 1 if x == etiqueta_procedure else 0)\n",
    "\n",
    "    df['etiqueta'] = df['main_procedure'].apply(asignar_etiqueta_procedure)\n",
    "\n",
    "    etiquetas_posibles_procedure = [\n",
    "        'Undefined',\n",
    "        'Not elsewhere classified',\n",
    "        'Nervous System',\n",
    "        'Endocrine System',\n",
    "        'Eye',\n",
    "        'Other MD and TP',\n",
    "        'Ear',\n",
    "        'Nose, Mouth and Pharynx',\n",
    "        'Respiratory System',\n",
    "        'Cardiovascular System',\n",
    "        'Hemic and Lymphatic System',\n",
    "        'Digestive System',\n",
    "        'Urinary System',\n",
    "        'Male Genital Organs',\n",
    "        'Female Genital Organs',\n",
    "        'Obstetrical Procedures',\n",
    "        'Muscoloskeletal System',\n",
    "        'Integumentary System',\n",
    "        'Miscellaneous Diagnostic'\n",
    "    ]\n",
    "\n",
    "    for etiqueta_procedure in etiquetas_posibles_procedure:\n",
    "        df[etiqueta_procedure] = df['etiqueta'].apply(lambda x: 1 if x == etiqueta_procedure else 0)\n",
    "\n",
    "    df.drop(columns=['main_procedure', 'etiqueta'], inplace=True)\n",
    "            \n",
    "    #Transformacion main_condition\n",
    "    df['main_condition'] = df['main_condition'].fillna(-1)\n",
    "   \n",
    "    df['main_condition'] = df['main_condition'].astype(str)\n",
    "    df['main_condition'] = df['main_condition'].str.replace(' ', '.')\n",
    "    df['main_condition'] = df['main_condition'].str.rstrip('.')\n",
    "    df['main_condition'] = df['main_condition'].where(~df['main_condition'].str.contains('[a-zA-Z]'), -1)\n",
    "    df['main_condition'] = df['main_condition'].astype(float)\n",
    "    \n",
    "    def asignar_etiqueta(valor):\n",
    "        diccionario_rangos = {\n",
    "            (0.01, 139.8): 'INFECTIOUS AND PARASITIC DISEASES (001-139)',\n",
    "            (140.0, 239.9): 'NEOPLASMS (140-239)',\n",
    "            (240.0, 279.9): 'ENDOCRINE, NUTRITIONAL AND METABOLIC DISEASES, AND IMMUNITY DISORDERS (240-279)',\n",
    "            (280.0, 289.9): 'DISEASES OF THE BLOOD AND BLOOD-FORMING ORGANS (280-289)',\n",
    "            (290.0, 319.0): 'MENTAL, BEHAVIORAL AND NEURODEVELOPMENTAL DISORDERS (290-319)',\n",
    "            (320.0, 389.9): 'DISEASES OF THE NERVOUS SYSTEM AND SENSE ORGANS (320-389)',\n",
    "            (390.0, 459.9): 'DISEASES OF THE CIRCULATORY SYSTEM (390-459)',\n",
    "            (460.0, 519.9): 'DISEASES OF THE RESPIRATORY SYSTEM (460-519)',\n",
    "            (520.0, 579.9): 'DISEASES OF THE DIGESTIVE SYSTEM (520-579)',\n",
    "            (580.0, 629.9): 'DISEASES OF THE GENITOURINARY SYSTEM (580-629)',\n",
    "            (630.0, 679.14): 'COMPLICATIONS OF PREGNANCY, CHILDBIRTH, AND THE PUERPERIUM (630-679)',\n",
    "            (680.0, 709.9): 'DISEASES OF THE SKIN AND SUBCUTANEOUS TISSUE (680-709)',\n",
    "            (710.0, 739.9): 'DISEASES OF THE MUSCULOSKELETAL SYSTEM AND CONNECTIVE TISSUE (710-739)',\n",
    "            (740.0, 759.9): 'CONGENITAL ANOMALIES (740-759)',\n",
    "            (760.0, 779.9): 'CERTAIN CONDITIONS ORIGINATING IN THE PERINATAL PERIOD (760-779)',\n",
    "            (780.01, 799.9): 'SYMPTOMS, SIGNS, AND ILL-DEFINED CONDITIONS (780-799)',\n",
    "            (800.0, 999.9): 'INJURY AND POISONING (800-999)',\n",
    "            (-5.0, 0.0): 'Undefined',\n",
    "        }\n",
    "        for rango, etiqueta in diccionario_rangos.items():\n",
    "            if rango[0] <= valor <= rango[1]:\n",
    "                return etiqueta\n",
    "        return None\n",
    "    \n",
    "    df['etiqueta'] = df['main_condition'].apply(asignar_etiqueta)\n",
    "\n",
    "    for etiqueta in df['etiqueta'].unique():\n",
    "        if etiqueta is not None:\n",
    "            df[etiqueta] = df['etiqueta'].apply(lambda x: 1 if x == etiqueta else 0)\n",
    "            \n",
    "    \n",
    "    df['etiqueta'] = df['main_condition'].apply(asignar_etiqueta)\n",
    "\n",
    "\n",
    "    etiquetas_posibles = [\n",
    "        'INFECTIOUS AND PARASITIC DISEASES (001-139)',\n",
    "        'NEOPLASMS (140-239)',\n",
    "        'ENDOCRINE, NUTRITIONAL AND METABOLIC DISEASES, AND IMMUNITY DISORDERS (240-279)',\n",
    "        'DISEASES OF THE BLOOD AND BLOOD-FORMING ORGANS (280-289)',\n",
    "        'MENTAL, BEHAVIORAL AND NEURODEVELOPMENTAL DISORDERS (290-319)',\n",
    "        'DISEASES OF THE NERVOUS SYSTEM AND SENSE ORGANS (320-389)',\n",
    "        'DISEASES OF THE CIRCULATORY SYSTEM (390-459)',\n",
    "        'DISEASES OF THE RESPIRATORY SYSTEM (460-519)',\n",
    "        'DISEASES OF THE DIGESTIVE SYSTEM (520-579)',\n",
    "        'DISEASES OF THE GENITOURINARY SYSTEM (580-629)',\n",
    "        'COMPLICATIONS OF PREGNANCY, CHILDBIRTH, AND THE PUERPERIUM (630-679)',\n",
    "        'DISEASES OF THE SKIN AND SUBCUTANEOUS TISSUE (680-709)',\n",
    "        'DISEASES OF THE MUSCULOSKELETAL SYSTEM AND CONNECTIVE TISSUE (710-739)',\n",
    "        'CONGENITAL ANOMALIES (740-759)',\n",
    "        'CERTAIN CONDITIONS ORIGINATING IN THE PERINATAL PERIOD (760-779)',\n",
    "        'SYMPTOMS, SIGNS, AND ILL-DEFINED CONDITIONS (780-799)',\n",
    "        'INJURY AND POISONING (800-999)',\n",
    "        'Undefined',\n",
    "        ]\n",
    "\n",
    "    for etiqueta in etiquetas_posibles:\n",
    "        df[etiqueta] = df['etiqueta'].apply(lambda x: 1 if x == etiqueta else 0)\n",
    "\n",
    "    df.drop(columns=['main_condition', 'etiqueta'], inplace=True)\n",
    "    \n",
    "    df['health_service'] = df['health_service'].astype(int)\n",
    "    df['comorbidity'] = df['comorbidity'].astype(int)   \n",
    "\n",
    "    df.loc[:,['secondary_procedure', 'health_service', 'asa_score', 'age', 'weight',\n",
    "       'height', 'comorbidity', 'anesthesia_local', 'anesthesia_sedation',\n",
    "       'anesthesia_plexus_block', 'anesthesia_intradural',\n",
    "       'anesthesia_epidural', 'anesthesia_general', 'cleaning_time', 'recovery_time',\n",
    "       'HOSP', 'male', 'Respiratory System', 'Eye',\n",
    "       'Female Genital Organs', 'Other MD and TP', 'Digestive System',\n",
    "       'Undefined', 'Urinary System', 'Muscoloskeletal System',\n",
    "       'Hemic and Lymphatic System', 'Integumentary System',\n",
    "       'Male Genital Organs', 'Nose, Mouth and Pharynx',\n",
    "       'Cardiovascular System', 'Nervous System', 'Ear',\n",
    "       'Not elsewhere classified', 'Obstetrical Procedures',\n",
    "       'Endocrine System', 'Miscellaneous Diagnostic', 'NEOPLASMS (140-239)',\n",
    "       'DISEASES OF THE NERVOUS SYSTEM AND SENSE ORGANS (320-389)',\n",
    "       'DISEASES OF THE DIGESTIVE SYSTEM (520-579)',\n",
    "       'DISEASES OF THE MUSCULOSKELETAL SYSTEM AND CONNECTIVE TISSUE (710-739)',\n",
    "       'INFECTIOUS AND PARASITIC DISEASES (001-139)',\n",
    "       'DISEASES OF THE GENITOURINARY SYSTEM (580-629)',\n",
    "       'INJURY AND POISONING (800-999)',\n",
    "       'DISEASES OF THE RESPIRATORY SYSTEM (460-519)',\n",
    "       'SYMPTOMS, SIGNS, AND ILL-DEFINED CONDITIONS (780-799)',\n",
    "       'DISEASES OF THE SKIN AND SUBCUTANEOUS TISSUE (680-709)',\n",
    "       'DISEASES OF THE CIRCULATORY SYSTEM (390-459)',\n",
    "       'ENDOCRINE, NUTRITIONAL AND METABOLIC DISEASES, AND IMMUNITY DISORDERS (240-279)',\n",
    "       'COMPLICATIONS OF PREGNANCY, CHILDBIRTH, AND THE PUERPERIUM (630-679)',\n",
    "       'CONGENITAL ANOMALIES (740-759)',\n",
    "       'MENTAL, BEHAVIORAL AND NEURODEVELOPMENTAL DISORDERS (290-319)',\n",
    "       'DISEASES OF THE BLOOD AND BLOOD-FORMING ORGANS (280-289)',\n",
    "       'CERTAIN CONDITIONS ORIGINATING IN THE PERINATAL PERIOD (760-779)']]\n",
    "\n",
    "    return df\n"
   ]
  },
  {
   "cell_type": "markdown",
   "id": "b763309d",
   "metadata": {},
   "source": [
    "### Transformaciones a los datos que llegan "
   ]
  },
  {
   "cell_type": "markdown",
   "id": "96bade97",
   "metadata": {},
   "source": [
    "# Construccion API"
   ]
  },
  {
   "cell_type": "code",
   "execution_count": 4,
   "id": "281fa392",
   "metadata": {},
   "outputs": [],
   "source": [
    "from flask import Flask, request, jsonify\n",
    "import json\n",
    "import joblib\n",
    "import pandas as pd\n",
    "import warnings\n",
    "warnings.filterwarnings(\"ignore\")"
   ]
  },
  {
   "cell_type": "code",
   "execution_count": 5,
   "id": "1ad921c0",
   "metadata": {},
   "outputs": [],
   "source": [
    "app = Flask(__name__)"
   ]
  },
  {
   "cell_type": "code",
   "execution_count": 6,
   "id": "479d45d4",
   "metadata": {},
   "outputs": [],
   "source": [
    "#Se carga el pipeline\n",
    "model = joblib.load('mejor_modelo_1.joblib')"
   ]
  },
  {
   "cell_type": "code",
   "execution_count": 7,
   "id": "239a3848",
   "metadata": {},
   "outputs": [],
   "source": [
    "importances = model.feature_importances_"
   ]
  },
  {
   "cell_type": "code",
   "execution_count": 8,
   "id": "01da7e46",
   "metadata": {},
   "outputs": [
    {
     "data": {
      "text/plain": [
       "array([0.00969146, 0.01466466, 0.00494271, 0.00605896, 0.00148712,\n",
       "       0.00143487, 0.00161801, 0.01266215, 0.00690033, 0.014665  ,\n",
       "       0.01820096, 0.04188753, 0.11878247, 0.0014269 , 0.00855425,\n",
       "       0.36048877, 0.00456384, 0.00367684, 0.0026238 , 0.02620774,\n",
       "       0.02307064, 0.00504154, 0.00754294, 0.01037978, 0.01177106,\n",
       "       0.00172155, 0.01291241, 0.00553998, 0.00636168, 0.03073322,\n",
       "       0.01258285, 0.02073552, 0.01186428, 0.        , 0.00959842,\n",
       "       0.00082086, 0.01902276, 0.0123312 , 0.05329906, 0.01347162,\n",
       "       0.00287375, 0.01035515, 0.00416947, 0.02823772, 0.00184668,\n",
       "       0.00228172, 0.01103302, 0.00524533, 0.        , 0.00326157,\n",
       "       0.00071905, 0.0006368 , 0.        ], dtype=float32)"
      ]
     },
     "execution_count": 8,
     "metadata": {},
     "output_type": "execute_result"
    }
   ],
   "source": [
    "importances"
   ]
  },
  {
   "cell_type": "code",
   "execution_count": 9,
   "id": "2befb48c",
   "metadata": {},
   "outputs": [],
   "source": [
    "#Se define la ruta\n",
    "@app.route('/nuevaPrediccion', methods=['POST'])\n",
    "def prediccion():\n",
    "    data = request.get_json(force=True)\n",
    "    df = transformaciones(data)\n",
    "    input = df.values.reshape(1,-1)\n",
    "    print(input)\n",
    "    pred = model.predict(input)\n",
    "    list = pred.tolist()\n",
    "    return json.dumps(list)"
   ]
  },
  {
   "cell_type": "code",
   "execution_count": 10,
   "id": "509be7a8",
   "metadata": {},
   "outputs": [
    {
     "name": "stdout",
     "output_type": "stream",
     "text": [
      " * Serving Flask app '__main__'\n",
      " * Debug mode: off\n"
     ]
    },
    {
     "name": "stderr",
     "output_type": "stream",
     "text": [
      "WARNING: This is a development server. Do not use it in a production deployment. Use a production WSGI server instead.\n",
      " * Running on http://127.0.0.1:8080\n",
      "Press CTRL+C to quit\n",
      "127.0.0.1 - - [09/May/2024 19:39:06] \"POST /nuevaPrediccion HTTP/1.1\" 200 -\n"
     ]
    },
    {
     "name": "stdout",
     "output_type": "stream",
     "text": [
      "[[  0.   8.   3.  57. 111. 188.   1.   0.   0.   0.   1.   1.   0.  24.\n",
      "   65.   1.   1.   1.   0.   0.   0.   0.   0.   0.   0.   0.   0.   0.\n",
      "    0.   0.   0.   0.   0.   0.   0.   0.   1.   0.   0.   0.   0.   0.\n",
      "    0.   0.   0.   0.   0.   0.   0.   0.   0.   0.   0.]]\n"
     ]
    }
   ],
   "source": [
    "#Se levanta la aplicación en el puerto 8080 para escuchar nuevas predicciones\n",
    "if __name__ == '__main__':\n",
    "    app.run(port=8080)"
   ]
  },
  {
   "cell_type": "code",
   "execution_count": null,
   "id": "d2f46bd4",
   "metadata": {},
   "outputs": [],
   "source": []
  }
 ],
 "metadata": {
  "kernelspec": {
   "display_name": "Python 3 (ipykernel)",
   "language": "python",
   "name": "python3"
  },
  "language_info": {
   "codemirror_mode": {
    "name": "ipython",
    "version": 3
   },
   "file_extension": ".py",
   "mimetype": "text/x-python",
   "name": "python",
   "nbconvert_exporter": "python",
   "pygments_lexer": "ipython3",
   "version": "3.9.5"
  }
 },
 "nbformat": 4,
 "nbformat_minor": 5
}
